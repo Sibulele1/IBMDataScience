{
 "cells": [
  {
   "cell_type": "markdown",
   "id": "58e32fa5-87ea-4da4-9a02-396e53a85d49",
   "metadata": {},
   "source": [
    "# 5. Python Project for Data Science, IBM"
   ]
  },
  {
   "cell_type": "markdown",
   "id": "179ffad3-0f49-4f8d-9b1b-889520e7549e",
   "metadata": {},
   "source": [
    "## Analyzing Historical Stock/Revenue Data and Building a Dashboard for Tesla and GameStop"
   ]
  },
  {
   "cell_type": "markdown",
   "id": "449ba20b-77c4-40ef-a27c-ab26ac60a58e",
   "metadata": {},
   "source": [
    "### Author: Sibulele Mgoduka"
   ]
  },
  {
   "cell_type": "markdown",
   "id": "a1925ab8-7895-44ab-85fb-3bcae20b1425",
   "metadata": {},
   "source": [
    "<b>Question 1:</b> Extracting Tesla Stock Data Using yfinance - 2 Points\n"
   ]
  },
  {
   "cell_type": "code",
   "execution_count": 5,
   "id": "cf862985-6c9b-4bce-be54-63da0d612298",
   "metadata": {},
   "outputs": [
    {
     "name": "stdout",
     "output_type": "stream",
     "text": [
      "First 5 rows of Tesla stock data:\n",
      "                       Date      Open      High       Low     Close  \\\n",
      "0 2010-06-29 00:00:00-04:00  1.266667  1.666667  1.169333  1.592667   \n",
      "1 2010-06-30 00:00:00-04:00  1.719333  2.028000  1.553333  1.588667   \n",
      "2 2010-07-01 00:00:00-04:00  1.666667  1.728000  1.351333  1.464000   \n",
      "3 2010-07-02 00:00:00-04:00  1.533333  1.540000  1.247333  1.280000   \n",
      "4 2010-07-06 00:00:00-04:00  1.333333  1.333333  1.055333  1.074000   \n",
      "\n",
      "      Volume  Dividends  Stock Splits  \n",
      "0  281494500        0.0           0.0  \n",
      "1  257806500        0.0           0.0  \n",
      "2  123282000        0.0           0.0  \n",
      "3   77097000        0.0           0.0  \n",
      "4  103003500        0.0           0.0  \n",
      "\n",
      "Last 5 rows of Tesla stock data:\n",
      "                          Date        Open        High         Low  \\\n",
      "3648 2024-12-26 00:00:00-05:00  465.160004  465.329987  451.019989   \n",
      "3649 2024-12-27 00:00:00-05:00  449.519989  450.000000  426.500000   \n",
      "3650 2024-12-30 00:00:00-05:00  419.399994  427.000000  415.750000   \n",
      "3651 2024-12-31 00:00:00-05:00  423.790009  427.929993  402.540009   \n",
      "3652 2025-01-02 00:00:00-05:00  390.100006  392.730011  373.040009   \n",
      "\n",
      "           Close     Volume  Dividends  Stock Splits  \n",
      "3648  454.130005   76366400        0.0           0.0  \n",
      "3649  431.660004   82666800        0.0           0.0  \n",
      "3650  417.410004   64941000        0.0           0.0  \n",
      "3651  403.839996   76825100        0.0           0.0  \n",
      "3652  379.279999  109051800        0.0           0.0  \n",
      "Tesla stock data saved to 'tesla_stock_data.csv'\n"
     ]
    }
   ],
   "source": [
    "import yfinance as yf\n",
    "\n",
    "tesla = yf.Ticker(\"TSLA\")\n",
    "\n",
    "tesla_data = tesla.history(period=\"max\")  # Use \"max\" to get data for the longest available period\n",
    "\n",
    "tesla_data.reset_index(inplace=True)\n",
    "\n",
    "print(\"First 5 rows of Tesla stock data:\")\n",
    "print(tesla_data.head())\n",
    "\n",
    "print(\"\\nLast 5 rows of Tesla stock data:\")\n",
    "print(tesla_data.tail())\n",
    "\n",
    "tesla_data.to_csv(\"tesla_stock_data.csv\")\n",
    "print(\"Tesla stock data saved to 'tesla_stock_data.csv'\")\n"
   ]
  },
  {
   "cell_type": "markdown",
   "id": "cb82e2be-1c05-4a54-8be1-43b78b02fcc5",
   "metadata": {},
   "source": [
    "<b>Question 2:</b> Extracting Tesla Revenue Data Using Webscraping - 1 Points\n"
   ]
  },
  {
   "cell_type": "code",
   "execution_count": 7,
   "id": "11306418-860b-4c98-8b8a-87069181c8fe",
   "metadata": {},
   "outputs": [
    {
     "name": "stdout",
     "output_type": "stream",
     "text": [
      "Page downloaded successfully.\n",
      "    Date Revenue (million)\n",
      "0   2023           $96,773\n",
      "1   2022           $81,462\n",
      "2   2021           $53,823\n",
      "3   2020           $31,536\n",
      "4   2019           $24,578\n",
      "5   2018           $21,461\n",
      "6   2017           $11,759\n",
      "7   2016            $7,000\n",
      "8   2015            $4,046\n",
      "9   2014            $3,198\n",
      "10  2013            $2,013\n",
      "11  2012              $413\n",
      "12  2011              $204\n",
      "13  2010              $117\n",
      "14  2009              $112\n",
      "Tesla revenue data saved to 'tesla_revenue_data.csv'\n"
     ]
    }
   ],
   "source": [
    "import requests\n",
    "from bs4 import BeautifulSoup\n",
    "import pandas as pd\n",
    "\n",
    "url = \"https://www.macrotrends.net/stocks/charts/TSLA/tesla/revenue\"\n",
    "\n",
    "headers = {\"User-Agent\": \"Mozilla/5.0 (Windows NT 10.0; Win64; x64) AppleWebKit/537.36 (KHTML, like Gecko) Chrome/91.0.4472.124 Safari/537.36\"}\n",
    "\n",
    "response = requests.get(url, headers=headers)\n",
    "\n",
    "if response.status_code == 200:\n",
    "    print(\"Page downloaded successfully.\")\n",
    "else:\n",
    "    print(\"Failed to retrieve the page. Status code:\", response.status_code)\n",
    "\n",
    "soup = BeautifulSoup(response.content, \"html.parser\")\n",
    "\n",
    "revenue_table = soup.find(\"table\", {\"class\": \"historical_data_table table\"})\n",
    "\n",
    "data = []\n",
    "if revenue_table:\n",
    "    rows = revenue_table.find_all(\"tr\")\n",
    "    for row in rows[1:]:  # Skip the header row\n",
    "        cols = row.find_all(\"td\")\n",
    "        if cols:\n",
    "            date = cols[0].text.strip()\n",
    "            revenue = cols[1].text.strip()\n",
    "            data.append({\"Date\": date, \"Revenue (million)\": revenue})\n",
    "\n",
    "tesla_revenue = pd.DataFrame(data)\n",
    "\n",
    "\n",
    "print(tesla_revenue)\n",
    "\n",
    "tesla_revenue.to_csv(\"tesla_revenue_data.csv\", index=False)\n",
    "print(\"Tesla revenue data saved to 'tesla_revenue_data.csv'\")\n"
   ]
  },
  {
   "cell_type": "markdown",
   "id": "3147021c-b425-43c3-91c3-e939b7f86cf7",
   "metadata": {},
   "source": [
    "\n",
    "<b>Question 3:</b> Extracting GameStop Stock Data Using yfinance - 2 Points\n"
   ]
  },
  {
   "cell_type": "code",
   "execution_count": 9,
   "id": "fc9bb992-bed4-45ec-9c88-d83bb385d81d",
   "metadata": {},
   "outputs": [
    {
     "name": "stdout",
     "output_type": "stream",
     "text": [
      "First 5 rows of GameStop stock data:\n",
      "                       Date      Open      High       Low     Close    Volume  \\\n",
      "0 2002-02-13 00:00:00-05:00  1.620129  1.693350  1.603296  1.691667  76216000   \n",
      "1 2002-02-14 00:00:00-05:00  1.712707  1.716073  1.670626  1.683250  11021600   \n",
      "2 2002-02-15 00:00:00-05:00  1.683251  1.687459  1.658002  1.674834   8389600   \n",
      "3 2002-02-19 00:00:00-05:00  1.666417  1.666417  1.578047  1.607504   7410400   \n",
      "4 2002-02-20 00:00:00-05:00  1.615921  1.662210  1.603296  1.662210   6892800   \n",
      "\n",
      "   Dividends  Stock Splits  \n",
      "0        0.0           0.0  \n",
      "1        0.0           0.0  \n",
      "2        0.0           0.0  \n",
      "3        0.0           0.0  \n",
      "4        0.0           0.0  \n",
      "\n",
      "Last 5 rows of Gamestop stock data:\n",
      "                          Date       Open       High        Low      Close  \\\n",
      "5757 2024-12-27 00:00:00-05:00  32.389999  33.049999  30.730000  32.200001   \n",
      "5758 2024-12-30 00:00:00-05:00  31.799999  32.880001  31.610001  32.009998   \n",
      "5759 2024-12-31 00:00:00-05:00  32.060001  32.439999  31.100000  31.340000   \n",
      "5760 2025-01-02 00:00:00-05:00  31.840000  32.049999  30.370001  30.660000   \n",
      "5761 2025-01-03 00:00:00-05:00  30.799999  31.740000  30.565901  31.720200   \n",
      "\n",
      "        Volume  Dividends  Stock Splits  \n",
      "5757  10141700        0.0           0.0  \n",
      "5758   9593100        0.0           0.0  \n",
      "5759   7395300        0.0           0.0  \n",
      "5760   7943100        0.0           0.0  \n",
      "5761   2398391        0.0           0.0  \n",
      "GameStop stock data saved to 'gamestop_stock_data.csv'\n"
     ]
    }
   ],
   "source": [
    "gamestop = yf.Ticker(\"GME\")\n",
    "\n",
    "gamestop_data = gamestop.history(period=\"max\")  # Use \"max\" to get data for the longest available period\n",
    "\n",
    "gamestop_data.reset_index(inplace=True)\n",
    "\n",
    "\n",
    "print(\"First 5 rows of GameStop stock data:\")\n",
    "print(gamestop_data.head())\n",
    "\n",
    "print(\"\\nLast 5 rows of Gamestop stock data:\")\n",
    "print(gamestop_data.tail())\n",
    "\n",
    "gamestop_data.to_csv(\"gamestop_stock_data.csv\")\n",
    "print(\"GameStop stock data saved to 'gamestop_stock_data.csv'\")"
   ]
  },
  {
   "cell_type": "markdown",
   "id": "8709b881-9366-4f05-8ad5-31a9f377d35d",
   "metadata": {},
   "source": [
    "<b>Question 4:</b> Extracting GameStop Revenue Data Using Webscraping - 1 Points\n"
   ]
  },
  {
   "cell_type": "code",
   "execution_count": 11,
   "id": "116e672e-1054-4007-ae3e-953b5b7e1f53",
   "metadata": {},
   "outputs": [
    {
     "name": "stdout",
     "output_type": "stream",
     "text": [
      "Page downloaded successfully.\n",
      "    Date Revenue (million)\n",
      "0   2024            $5,273\n",
      "1   2023            $5,927\n",
      "2   2022            $6,011\n",
      "3   2021            $5,090\n",
      "4   2020            $6,466\n",
      "5   2019            $8,285\n",
      "6   2018            $8,547\n",
      "7   2017            $7,965\n",
      "8   2016            $9,364\n",
      "9   2015            $9,296\n",
      "10  2014            $9,040\n",
      "11  2013            $8,887\n",
      "12  2012            $9,551\n",
      "13  2011            $9,474\n",
      "14  2010            $9,078\n",
      "15  2009            $8,806\n",
      "GameStop revenue data saved to 'gamestop_revenue_data.csv'\n"
     ]
    }
   ],
   "source": [
    "\n",
    "url = \"https://www.macrotrends.net/stocks/charts/GME/gamestop/revenue\"\n",
    "\n",
    "headers = {\"User-Agent\": \"Mozilla/5.0 (Windows NT 10.0; Win64; x64) AppleWebKit/537.36 (KHTML, like Gecko) Chrome/91.0.4472.124 Safari/537.36\"}\n",
    "response = requests.get(url, headers=headers)\n",
    "\n",
    "if response.status_code == 200:\n",
    "    print(\"Page downloaded successfully.\")\n",
    "else:\n",
    "    print(\"Failed to retrieve the page. Status code:\", response.status_code)\n",
    "\n",
    "soup = BeautifulSoup(response.content, \"html.parser\")\n",
    "\n",
    "revenue_table = soup.find(\"table\", {\"class\": \"historical_data_table table\"})\n",
    "\n",
    "data = []\n",
    "if revenue_table:\n",
    "    rows = revenue_table.find_all(\"tr\")\n",
    "    for row in rows[1:]:  # Skip the header row\n",
    "        cols = row.find_all(\"td\")\n",
    "        if cols:\n",
    "            date = cols[0].text.strip()\n",
    "            revenue = cols[1].text.strip()\n",
    "            data.append({\"Date\": date, \"Revenue (million)\": revenue})\n",
    "else:\n",
    "    print(\"Revenue table not found on the page.\")\n",
    "\n",
    "gme_revenue = pd.DataFrame(data)\n",
    "\n",
    "print(gme_revenue)\n",
    "\n",
    "gme_revenue.to_csv(\"gamestop_revenue_data.csv\", index=False)\n",
    "print(\"GameStop revenue data saved to 'gamestop_revenue_data.csv'\")\n"
   ]
  },
  {
   "cell_type": "markdown",
   "id": "ec4c699b-a63d-41fd-9c93-428aebc1bc4e",
   "metadata": {},
   "source": [
    " \n",
    "<b>Question 5:</b> Tesla Stock and Revenue Dashboard - 2 Points\n"
   ]
  },
  {
   "cell_type": "code",
   "execution_count": 13,
   "id": "16b36b65-4d64-4c76-a1eb-70fa579df1ac",
   "metadata": {},
   "outputs": [
    {
     "name": "stdout",
     "output_type": "stream",
     "text": [
      "Requirement already satisfied: dash in c:\\users\\smgod\\anaconda3\\lib\\site-packages (2.18.2)\n",
      "Requirement already satisfied: Flask<3.1,>=1.0.4 in c:\\users\\smgod\\anaconda3\\lib\\site-packages (from dash) (2.2.5)\n",
      "Requirement already satisfied: Werkzeug<3.1 in c:\\users\\smgod\\anaconda3\\lib\\site-packages (from dash) (2.2.3)\n",
      "Requirement already satisfied: plotly>=5.0.0 in c:\\users\\smgod\\anaconda3\\lib\\site-packages (from dash) (5.9.0)\n",
      "Requirement already satisfied: dash-html-components==2.0.0 in c:\\users\\smgod\\anaconda3\\lib\\site-packages (from dash) (2.0.0)\n",
      "Requirement already satisfied: dash-core-components==2.0.0 in c:\\users\\smgod\\anaconda3\\lib\\site-packages (from dash) (2.0.0)\n",
      "Requirement already satisfied: dash-table==5.0.0 in c:\\users\\smgod\\anaconda3\\lib\\site-packages (from dash) (5.0.0)\n",
      "Requirement already satisfied: importlib-metadata in c:\\users\\smgod\\anaconda3\\lib\\site-packages (from dash) (7.0.1)\n",
      "Requirement already satisfied: typing-extensions>=4.1.1 in c:\\users\\smgod\\anaconda3\\lib\\site-packages (from dash) (4.9.0)\n",
      "Requirement already satisfied: requests in c:\\users\\smgod\\anaconda3\\lib\\site-packages (from dash) (2.32.3)\n",
      "Requirement already satisfied: retrying in c:\\users\\smgod\\anaconda3\\lib\\site-packages (from dash) (1.3.4)\n",
      "Requirement already satisfied: nest-asyncio in c:\\users\\smgod\\anaconda3\\lib\\site-packages (from dash) (1.6.0)\n",
      "Requirement already satisfied: setuptools in c:\\users\\smgod\\anaconda3\\lib\\site-packages (from dash) (68.2.2)\n",
      "Requirement already satisfied: Jinja2>=3.0 in c:\\users\\smgod\\anaconda3\\lib\\site-packages (from Flask<3.1,>=1.0.4->dash) (3.1.3)\n",
      "Requirement already satisfied: itsdangerous>=2.0 in c:\\users\\smgod\\anaconda3\\lib\\site-packages (from Flask<3.1,>=1.0.4->dash) (2.0.1)\n",
      "Requirement already satisfied: click>=8.0 in c:\\users\\smgod\\anaconda3\\lib\\site-packages (from Flask<3.1,>=1.0.4->dash) (8.1.7)\n",
      "Requirement already satisfied: tenacity>=6.2.0 in c:\\users\\smgod\\anaconda3\\lib\\site-packages (from plotly>=5.0.0->dash) (8.2.2)\n",
      "Requirement already satisfied: MarkupSafe>=2.1.1 in c:\\users\\smgod\\anaconda3\\lib\\site-packages (from Werkzeug<3.1->dash) (2.1.3)\n",
      "Requirement already satisfied: zipp>=0.5 in c:\\users\\smgod\\anaconda3\\lib\\site-packages (from importlib-metadata->dash) (3.17.0)\n",
      "Requirement already satisfied: charset-normalizer<4,>=2 in c:\\users\\smgod\\anaconda3\\lib\\site-packages (from requests->dash) (2.0.4)\n",
      "Requirement already satisfied: idna<4,>=2.5 in c:\\users\\smgod\\anaconda3\\lib\\site-packages (from requests->dash) (3.4)\n",
      "Requirement already satisfied: urllib3<3,>=1.21.1 in c:\\users\\smgod\\anaconda3\\lib\\site-packages (from requests->dash) (2.0.7)\n",
      "Requirement already satisfied: certifi>=2017.4.17 in c:\\users\\smgod\\anaconda3\\lib\\site-packages (from requests->dash) (2024.12.14)\n",
      "Requirement already satisfied: six>=1.7.0 in c:\\users\\smgod\\anaconda3\\lib\\site-packages (from retrying->dash) (1.16.0)\n",
      "Requirement already satisfied: colorama in c:\\users\\smgod\\anaconda3\\lib\\site-packages (from click>=8.0->Flask<3.1,>=1.0.4->dash) (0.4.6)\n"
     ]
    }
   ],
   "source": [
    "!pip install dash\n"
   ]
  },
  {
   "cell_type": "code",
   "execution_count": 29,
   "id": "57cb4924-b26d-499b-9846-fa718efd07b9",
   "metadata": {},
   "outputs": [
    {
     "data": {
      "text/html": [
       "\n",
       "        <iframe\n",
       "            width=\"100%\"\n",
       "            height=\"650\"\n",
       "            src=\"http://127.0.0.1:8050/\"\n",
       "            frameborder=\"0\"\n",
       "            allowfullscreen\n",
       "            \n",
       "        ></iframe>\n",
       "        "
      ],
      "text/plain": [
       "<IPython.lib.display.IFrame at 0x201ec6eaf90>"
      ]
     },
     "metadata": {},
     "output_type": "display_data"
    }
   ],
   "source": [
    "import dash\n",
    "from dash import dcc, html\n",
    "import pandas as pd\n",
    "import plotly.graph_objs as go\n",
    "\n",
    "app = dash.Dash(__name__)\n",
    "\n",
    "import warnings\n",
    "# Ignore all FUTURE warnings\n",
    "warnings.filterwarnings(\"ignore\", category=FutureWarning)\n",
    "\n",
    "tesla_stock_data = pd.read_csv(\"tesla_stock_data.csv\")\n",
    "tesla_stock_data['Date'] = pd.to_datetime(tesla_stock_data['Date'])  # Convert Date to datetime\n",
    "\n",
    "tesla_revenue_data = pd.read_csv(\"tesla_revenue_data.csv\")\n",
    "tesla_revenue_data['Date'] = pd.to_datetime(tesla_revenue_data['Date'])  # Convert Date to datetime\n",
    "tesla_revenue_data['Revenue (million)'] = tesla_revenue_data['Revenue (million)'].replace(\n",
    "    {'\\$': '', ',': ''}, regex=True).astype(float)  # Clean revenue data and convert to numeric\n",
    "\n",
    "stock_fig = go.Figure(\n",
    "    data=[\n",
    "        go.Scatter(\n",
    "            x=tesla_stock_data[\"Date\"],\n",
    "            y=tesla_stock_data[\"Close\"],\n",
    "            mode=\"lines\",\n",
    "            name=\"Stock Price\",\n",
    "        )\n",
    "    ],\n",
    "    layout=go.Layout(\n",
    "        title=\"Tesla Stock Prices\",\n",
    "        xaxis=dict(title=\"Date\"),\n",
    "        yaxis=dict(title=\"Stock Price (USD)\"),\n",
    "    ),\n",
    ")\n",
    "\n",
    "# Create Revenue Figure\n",
    "revenue_fig = go.Figure(\n",
    "    data=[\n",
    "        go.Bar(\n",
    "            x=tesla_revenue_data[\"Date\"],\n",
    "            y=tesla_revenue_data[\"Revenue (million)\"],\n",
    "            name=\"Revenue (million)\",\n",
    "        )\n",
    "    ],\n",
    "    layout=go.Layout(\n",
    "        title=\"Tesla Revenue\",\n",
    "        xaxis=dict(title=\"Date\"),\n",
    "        yaxis=dict(title=\"Revenue (USD)\"),\n",
    "    ),\n",
    ")\n",
    "\n",
    "# Layout of the Dashboard\n",
    "app.layout = html.Div(\n",
    "    children=[\n",
    "        html.H1(\"Tesla Stock and Revenue Dashboard\", style={\"textAlign\": \"center\"}),\n",
    "        dcc.Graph(id=\"stock_chart\", figure=stock_fig),  # Add the stock chart\n",
    "        dcc.Graph(id=\"revenue_chart\", figure=revenue_fig),  # Add the revenue chart\n",
    "    ]\n",
    ")\n",
    "\n",
    "# Run the Dash app\n",
    "if __name__ == \"__main__\":\n",
    "    app.run_server(debug=True)\n"
   ]
  },
  {
   "cell_type": "markdown",
   "id": "be95fa74-b2a5-4651-be08-41c710b0ee85",
   "metadata": {},
   "source": [
    "<b>Question 6:</b> GameStop Stock and Revenue Dashboard - 2 Points\n"
   ]
  },
  {
   "cell_type": "code",
   "execution_count": 31,
   "id": "69c5fc3c-6751-4bf7-9182-3504184e3b36",
   "metadata": {},
   "outputs": [
    {
     "data": {
      "text/html": [
       "\n",
       "        <iframe\n",
       "            width=\"100%\"\n",
       "            height=\"650\"\n",
       "            src=\"http://127.0.0.1:8050/\"\n",
       "            frameborder=\"0\"\n",
       "            allowfullscreen\n",
       "            \n",
       "        ></iframe>\n",
       "        "
      ],
      "text/plain": [
       "<IPython.lib.display.IFrame at 0x201ec583650>"
      ]
     },
     "metadata": {},
     "output_type": "display_data"
    }
   ],
   "source": [
    "import dash\n",
    "from dash import dcc, html\n",
    "import pandas as pd\n",
    "import plotly.graph_objs as go\n",
    "\n",
    "import warnings\n",
    "# Ignore all FUTURE warnings\n",
    "warnings.filterwarnings(\"ignore\", category=FutureWarning)\n",
    "\n",
    "# Initialize the Dash app\n",
    "app = dash.Dash(__name__)\n",
    "\n",
    "# GameStop Stock Data\n",
    "gme_stock_data = pd.read_csv(\"gamestop_stock_data.csv\")\n",
    "gme_stock_data['Date'] = pd.to_datetime(gme_stock_data['Date'])  # Convert Date to datetime\n",
    "\n",
    "# GameStop Revenue Data\n",
    "gme_revenue_data = pd.read_csv(\"gamestop_revenue_data.csv\")\n",
    "gme_revenue_data['Date'] = pd.to_datetime(gme_revenue_data['Date'])  # Convert Date to datetime\n",
    "gme_revenue_data['Revenue (million)'] = gme_revenue_data['Revenue (million)'].replace(\n",
    "    {'\\$': '', ',': ''}, regex=True).astype(float)  # Clean revenue data and convert to numeric\n",
    "\n",
    "# Create Stock Price Figure\n",
    "stock_fig = go.Figure(\n",
    "    data=[\n",
    "        go.Scatter(\n",
    "            x=gme_stock_data[\"Date\"],\n",
    "            y=gme_stock_data[\"Close\"],\n",
    "            mode=\"lines\",\n",
    "            name=\"Stock Price\",\n",
    "        )\n",
    "    ],\n",
    "    layout=go.Layout(\n",
    "        title=\"GameStop Stock Prices\",\n",
    "        xaxis=dict(title=\"Date\"),\n",
    "        yaxis=dict(title=\"Stock Price (USD)\"),\n",
    "    ),\n",
    ")\n",
    "\n",
    "# Create Revenue Figure\n",
    "revenue_fig = go.Figure(\n",
    "    data=[\n",
    "        go.Bar(\n",
    "            x=gme_revenue_data[\"Date\"],\n",
    "            y=gme_revenue_data[\"Revenue (million)\"],\n",
    "            name=\"Revenue (million)\",\n",
    "        )\n",
    "    ],\n",
    "    layout=go.Layout(\n",
    "        title=\"GameStop Revenue\",\n",
    "        xaxis=dict(title=\"Date\"),\n",
    "        yaxis=dict(title=\"Revenue (million USD)\"),\n",
    "    ),\n",
    ")\n",
    "\n",
    "# Layout of the Dashboard\n",
    "app.layout = html.Div(\n",
    "    children=[\n",
    "        html.H1(\"GameStop Stock and Revenue Dashboard\", style={\"textAlign\": \"center\"}),\n",
    "        dcc.Graph(id=\"stock_chart\", figure=stock_fig),  # Add the stock chart\n",
    "        dcc.Graph(id=\"revenue_chart\", figure=revenue_fig),  # Add the revenue chart\n",
    "    ]\n",
    ")\n",
    "\n",
    "# Run the Dash app\n",
    "if __name__ == \"__main__\":\n",
    "    app.run_server(debug=True)\n"
   ]
  },
  {
   "cell_type": "code",
   "execution_count": null,
   "id": "bca948e0-4675-49f2-b3e0-a52485d43b49",
   "metadata": {},
   "outputs": [],
   "source": []
  },
  {
   "cell_type": "code",
   "execution_count": null,
   "id": "d19e3223-de04-4530-b46e-8d78667c8805",
   "metadata": {},
   "outputs": [],
   "source": []
  }
 ],
 "metadata": {
  "kernelspec": {
   "display_name": "Python 3 (ipykernel)",
   "language": "python",
   "name": "python3"
  },
  "language_info": {
   "codemirror_mode": {
    "name": "ipython",
    "version": 3
   },
   "file_extension": ".py",
   "mimetype": "text/x-python",
   "name": "python",
   "nbconvert_exporter": "python",
   "pygments_lexer": "ipython3",
   "version": "3.11.7"
  }
 },
 "nbformat": 4,
 "nbformat_minor": 5
}
